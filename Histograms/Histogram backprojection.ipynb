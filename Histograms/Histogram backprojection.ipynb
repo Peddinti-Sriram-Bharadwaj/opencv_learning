{
 "cells": [
  {
   "cell_type": "markdown",
   "id": "4bb52ca9",
   "metadata": {},
   "source": [
    "used for image segmentation or finding objects of interest in an image. it creates an image of the same size  as that of our input image, where each pixel corresponds to the probability of tht pixel belonging to our object. \n",
    "\n",
    "the output image will have our object of interest in more white compared to the remaining part. \n",
    "\n",
    "it is used with camshift algorithm etc. \n",
    "\n",
    "it is done using a histogram of an image contining our object of interest,. the obejct shodl fill the image as far as possible for better results. a color histogram is preferred over grayscale histogram, becuase the color of the object is a better way to define the obejct than its grauscael intensit. \n",
    "we then back project hits histogram ove rthe test image where we need to find the object. \n",
    "\n",
    "so, we calculate the probability of every pixel belonging to the ground and show it. the resulting output on proper thresholding gives us the ground alone. "
   ]
  },
  {
   "cell_type": "code",
   "execution_count": null,
   "id": "698ce898",
   "metadata": {},
   "outputs": [],
   "source": []
  }
 ],
 "metadata": {
  "kernelspec": {
   "display_name": "Python [conda env:images] *",
   "language": "python",
   "name": "conda-env-images-py"
  },
  "language_info": {
   "codemirror_mode": {
    "name": "ipython",
    "version": 3
   },
   "file_extension": ".py",
   "mimetype": "text/x-python",
   "name": "python",
   "nbconvert_exporter": "python",
   "pygments_lexer": "ipython3",
   "version": "3.12.8"
  }
 },
 "nbformat": 4,
 "nbformat_minor": 5
}
