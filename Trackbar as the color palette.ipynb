{
 "cells": [
  {
   "cell_type": "markdown",
   "id": "bc6e7a14",
   "metadata": {},
   "source": [
    "A trackbar can be binded to opencv windows. \n",
    "\n",
    "this is a simple application which shows the color you specify. we have a window with three trackers to specify each of B, G , R colors. you can slide the trackbar and correspondingly window color changes. \n",
    "\n",
    "by default, the initial color is black. \n",
    "\n"
   ]
  },
  {
   "cell_type": "markdown",
   "id": "aade3f0d",
   "metadata": {},
   "source": [
    "for cv2.getTrackbarPos(), first argument is the trackbar name, second one is the window name to which it is attached, third is the default avlue, fouth is the maximum value and fifth is the callback functino which is executed every time trackbar value changes. \n",
    "\n",
    "the callback function always has a default argument which is the trackbar position. \n",
    "\n",
    "trakbar can be used as a button or a switch. "
   ]
  },
  {
   "cell_type": "code",
   "execution_count": 1,
   "id": "c51563d2",
   "metadata": {},
   "outputs": [],
   "source": [
    "import cv2\n",
    "import numpy as np"
   ]
  },
  {
   "cell_type": "code",
   "execution_count": 2,
   "id": "eef6b748",
   "metadata": {},
   "outputs": [],
   "source": [
    "def nothing(x):\n",
    "    pass"
   ]
  },
  {
   "cell_type": "code",
   "execution_count": 3,
   "id": "0e0aa361",
   "metadata": {},
   "outputs": [],
   "source": [
    "img = np.zeros((300,512,3), np.uint8)\n",
    "cv2.namedWindow('image')\n"
   ]
  },
  {
   "cell_type": "code",
   "execution_count": 4,
   "id": "5ab92ffc",
   "metadata": {},
   "outputs": [],
   "source": [
    "cv2.createTrackbar('R', 'image', 0, 255, nothing)\n",
    "cv2.createTrackbar('G', 'image', 0, 255, nothing)\n",
    "cv2.createTrackbar('B', 'image', 0, 255, nothing)"
   ]
  },
  {
   "cell_type": "code",
   "execution_count": 5,
   "id": "33135201",
   "metadata": {},
   "outputs": [],
   "source": [
    "switch = '0 : OFF \\n1 : ON'\n",
    "cv2.createTrackbar(switch, 'image', 0, 1, nothing)"
   ]
  },
  {
   "cell_type": "code",
   "execution_count": null,
   "id": "589064c7",
   "metadata": {},
   "outputs": [
    {
     "name": "stderr",
     "output_type": "stream",
     "text": [
      "2025-01-19 09:37:43.786 python[1869:66332] +[IMKClient subclass]: chose IMKClient_Modern\n",
      "2025-01-19 09:37:43.786 python[1869:66332] +[IMKInputSession subclass]: chose IMKInputSession_Modern\n"
     ]
    }
   ],
   "source": [
    "while(1):\n",
    "    cv2.imshow('image', img)\n",
    "    k = cv2.waitKey(1) & 0xFF\n",
    "    if k == 27:\n",
    "        break\n",
    "        \n",
    "    r = cv2.getTrackbarPos('R', 'image')\n",
    "    g = cv2.getTrackbarPos('G', 'image')\n",
    "    b = cv2.getTrackbarPos('B', 'image')\n",
    "    s = cv2.getTrackbarPos(switch, 'image')\n",
    "    \n",
    "    if s == 0:\n",
    "        img[:] = 0\n",
    "    else:\n",
    "        img[:] = [b,g,r]\n",
    "\n",
    "\n",
    "cv2.destroyAllWindows()"
   ]
  },
  {
   "cell_type": "code",
   "execution_count": null,
   "id": "20a23cec",
   "metadata": {},
   "outputs": [],
   "source": []
  }
 ],
 "metadata": {
  "kernelspec": {
   "display_name": "Python [conda env:images] *",
   "language": "python",
   "name": "conda-env-images-py"
  },
  "language_info": {
   "codemirror_mode": {
    "name": "ipython",
    "version": 3
   },
   "file_extension": ".py",
   "mimetype": "text/x-python",
   "name": "python",
   "nbconvert_exporter": "python",
   "pygments_lexer": "ipython3",
   "version": "3.12.8"
  }
 },
 "nbformat": 4,
 "nbformat_minor": 5
}
