{
 "cells": [
  {
   "cell_type": "markdown",
   "id": "898c4829",
   "metadata": {},
   "source": [
    "Since a large number of operations are being dealed with every second, it is mandatory that your code is not only providing the correct solution, but also in a fastest manner. "
   ]
  },
  {
   "cell_type": "code",
   "execution_count": 2,
   "id": "82ad4913",
   "metadata": {},
   "outputs": [],
   "source": [
    "import numpy as np\n",
    "import cv2"
   ]
  },
  {
   "cell_type": "markdown",
   "id": "4d99f49f",
   "metadata": {},
   "source": [
    "## measuring performance with OpenCV"
   ]
  },
  {
   "cell_type": "markdown",
   "id": "bc3d0755",
   "metadata": {},
   "source": [
    "**cv2.getTickCount** function returns the number of clock-cycles after a reference event to the moment this function is called. \n",
    "\n",
    "**cv2.getTickFrequencey** function returns the frequency of clock-cycles or the number of clock cycles per second. so, to get the enture time of execution :- just divide the time with the frequency. "
   ]
  },
  {
   "cell_type": "code",
   "execution_count": 3,
   "id": "cde6df33",
   "metadata": {},
   "outputs": [],
   "source": [
    "e1 = cv2.getTickCount()\n",
    "e2 = cv2.getTickCount()\n",
    "time = (e2 - e1)/cv2.getTickFrequency()"
   ]
  },
  {
   "cell_type": "code",
   "execution_count": 4,
   "id": "49499839",
   "metadata": {},
   "outputs": [
    {
     "data": {
      "text/plain": [
       "5.8542e-05"
      ]
     },
     "execution_count": 4,
     "metadata": {},
     "output_type": "execute_result"
    }
   ],
   "source": [
    "time"
   ]
  },
  {
   "cell_type": "markdown",
   "id": "e7673ee5",
   "metadata": {},
   "source": [
    "## Default optimization in OpenCV\n",
    "\n",
    "many of the opencv functions are opptimized using see2, avx etc. it contaisns unoptimized code alsso. so if our suste, supports these features, we should explot them. it is enabled by default while conmpiling. so opencv runs the optimized code if it is enabled, else it runs the unoptimised code. \n",
    "\n",
    "you can use cv2.useOptimized() to check if it is enabled or disabled and use cv2.setUseOptimized() to enable or disable it. "
   ]
  },
  {
   "cell_type": "code",
   "execution_count": 8,
   "id": "15f4089e",
   "metadata": {},
   "outputs": [
    {
     "data": {
      "text/plain": [
       "True"
      ]
     },
     "execution_count": 8,
     "metadata": {},
     "output_type": "execute_result"
    }
   ],
   "source": [
    "cv2.useOptimized()"
   ]
  },
  {
   "cell_type": "code",
   "execution_count": 9,
   "id": "ca61cb4c",
   "metadata": {},
   "outputs": [],
   "source": [
    "img = cv2.imread('./sample_imgs/rasenshuriken.jpeg')"
   ]
  },
  {
   "cell_type": "code",
   "execution_count": 11,
   "id": "7eb4c710",
   "metadata": {},
   "outputs": [
    {
     "name": "stdout",
     "output_type": "stream",
     "text": [
      "2.24 ms ± 5.67 μs per loop (mean ± std. dev. of 7 runs, 100 loops each)\n"
     ]
    }
   ],
   "source": [
    "%timeit res = cv2.medianBlur(img,49)"
   ]
  },
  {
   "cell_type": "code",
   "execution_count": 12,
   "id": "e9ed41c0",
   "metadata": {},
   "outputs": [],
   "source": [
    "cv2.setUseOptimized(False)\n"
   ]
  },
  {
   "cell_type": "code",
   "execution_count": 13,
   "id": "77b5d9fc",
   "metadata": {},
   "outputs": [
    {
     "data": {
      "text/plain": [
       "False"
      ]
     },
     "execution_count": 13,
     "metadata": {},
     "output_type": "execute_result"
    }
   ],
   "source": [
    "cv2.useOptimized()"
   ]
  },
  {
   "cell_type": "code",
   "execution_count": 14,
   "id": "7d111b56",
   "metadata": {},
   "outputs": [
    {
     "name": "stdout",
     "output_type": "stream",
     "text": [
      "2.26 ms ± 24.2 μs per loop (mean ± std. dev. of 7 runs, 100 loops each)\n"
     ]
    }
   ],
   "source": [
    "%timeit res = cv2.medianBlur(img,49)"
   ]
  },
  {
   "cell_type": "markdown",
   "id": "6bfb0de1",
   "metadata": {},
   "source": [
    "median filtering is SIMD optimied. so, we can use this to enable optimization on top of our code. "
   ]
  },
  {
   "cell_type": "markdown",
   "id": "a115320c",
   "metadata": {},
   "source": [
    "## measuring performance in python\n",
    "\n",
    "Ipython gives a magic command *%timeit* to perform this. it runs the code several times to get more accurate resutls. they are suitable to measure single line codes. \n",
    "havint a modular code helps with this, as we can just call a function to measure its performance\n",
    "\n",
    "\n"
   ]
  },
  {
   "cell_type": "code",
   "execution_count": 15,
   "id": "0c1948fc",
   "metadata": {},
   "outputs": [],
   "source": [
    "x = 5"
   ]
  },
  {
   "cell_type": "code",
   "execution_count": 16,
   "id": "92e03708",
   "metadata": {},
   "outputs": [
    {
     "name": "stdout",
     "output_type": "stream",
     "text": [
      "15.7 ns ± 0.0271 ns per loop (mean ± std. dev. of 7 runs, 100,000,000 loops each)\n"
     ]
    }
   ],
   "source": [
    "%timeit y = x**2"
   ]
  },
  {
   "cell_type": "code",
   "execution_count": 18,
   "id": "e9eb277a",
   "metadata": {},
   "outputs": [
    {
     "name": "stdout",
     "output_type": "stream",
     "text": [
      "8.86 ns ± 0.0147 ns per loop (mean ± std. dev. of 7 runs, 100,000,000 loops each)\n"
     ]
    }
   ],
   "source": [
    "%timeit y = x*x"
   ]
  },
  {
   "cell_type": "code",
   "execution_count": 19,
   "id": "9ecd1af7",
   "metadata": {},
   "outputs": [],
   "source": [
    "z = np.uint([5])\n"
   ]
  },
  {
   "cell_type": "code",
   "execution_count": 20,
   "id": "8ca8a66e",
   "metadata": {},
   "outputs": [
    {
     "name": "stdout",
     "output_type": "stream",
     "text": [
      "229 ns ± 1.63 ns per loop (mean ± std. dev. of 7 runs, 1,000,000 loops each)\n"
     ]
    }
   ],
   "source": [
    "%timeit y = z*z"
   ]
  },
  {
   "cell_type": "code",
   "execution_count": 22,
   "id": "05073deb",
   "metadata": {},
   "outputs": [
    {
     "name": "stdout",
     "output_type": "stream",
     "text": [
      "208 ns ± 2.36 ns per loop (mean ± std. dev. of 7 runs, 1,000,000 loops each)\n"
     ]
    }
   ],
   "source": [
    "%timeit y = np.square(z)"
   ]
  },
  {
   "cell_type": "code",
   "execution_count": 26,
   "id": "8ab41a90",
   "metadata": {},
   "outputs": [],
   "source": [
    "## works only on grayscale images\n",
    "#%timeit z = cv2.countNonZero(img)\n"
   ]
  },
  {
   "cell_type": "code",
   "execution_count": 24,
   "id": "be11a42e",
   "metadata": {},
   "outputs": [
    {
     "name": "stdout",
     "output_type": "stream",
     "text": [
      "4.47 μs ± 22.7 ns per loop (mean ± std. dev. of 7 runs, 100,000 loops each)\n"
     ]
    }
   ],
   "source": [
    "%timeit z = np.count_nonzero(img)"
   ]
  },
  {
   "cell_type": "markdown",
   "id": "9895826d",
   "metadata": {},
   "source": [
    "## performance optimization techniques\n",
    "\n",
    "- avoid using loops in python as far as possible, they are inherently slow\n",
    "\n",
    "- vectorize the algorithm/code to the maximum possible extent because numpy and openc are optimized for vector operations\n",
    "\n",
    "- exploit the cache coherence\n",
    "\n",
    "- never make copies of array unless it is needed. try to use views instead, array copying is a costly operation. \n",
    "\n"
   ]
  },
  {
   "cell_type": "markdown",
   "id": "dd8c99af",
   "metadata": {},
   "source": [
    "https://wiki.python.org/moin/PythonSpeed/PerformanceTips\n",
    "\n",
    "https://scipy-lectures.org/advanced/advanced_numpy/index.html#advanced-numpy\n",
    "\n",
    "https://pynash.org/lander"
   ]
  },
  {
   "cell_type": "code",
   "execution_count": null,
   "id": "41cf9f31",
   "metadata": {},
   "outputs": [],
   "source": []
  }
 ],
 "metadata": {
  "kernelspec": {
   "display_name": "Python [conda env:images] *",
   "language": "python",
   "name": "conda-env-images-py"
  },
  "language_info": {
   "codemirror_mode": {
    "name": "ipython",
    "version": 3
   },
   "file_extension": ".py",
   "mimetype": "text/x-python",
   "name": "python",
   "nbconvert_exporter": "python",
   "pygments_lexer": "ipython3",
   "version": "3.12.8"
  }
 },
 "nbformat": 4,
 "nbformat_minor": 5
}
