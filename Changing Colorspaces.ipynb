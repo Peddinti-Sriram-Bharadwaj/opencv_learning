{
 "cells": [
  {
   "cell_type": "markdown",
   "id": "d5bb0a04",
   "metadata": {},
   "source": [
    "There are more than 150 color space conversion methods available in OpenCV. \n",
    "\n",
    "for color conversion we use the function cv2.cvtColor(input_image, flag) where flag determiens the type of conversion. \n",
    "\n",
    "for HSV, the hue range is 0 - 179, saturaiton range is 0 - 255, and value range is 0 - 255. different softwares use different scales, so you need to normalize these ranges when comparing OpenCV values with them"
   ]
  },
  {
   "cell_type": "markdown",
   "id": "743172c8",
   "metadata": {},
   "source": [
    "## Object tracking \n",
    "\n",
    "we cna use color conversion to extract a colored object. In HSV, it is more easier to represent a color than RGB space, so we convert a frame to RGB before extracting color object from it. \n",
    "\n",
    "- Take each frame of the video\n",
    "- Convert from BGR to HSV color space\n",
    "- threshold the HSV image for a range of blue color. \n",
    "- extract the blue object alone"
   ]
  },
  {
   "cell_type": "code",
   "execution_count": 1,
   "id": "bc35f4e8",
   "metadata": {},
   "outputs": [],
   "source": [
    "import cv2\n",
    "import numpy as np"
   ]
  },
  {
   "cell_type": "code",
   "execution_count": 6,
   "id": "db4460f5",
   "metadata": {},
   "outputs": [
    {
     "name": "stderr",
     "output_type": "stream",
     "text": [
      "2025-01-19 14:18:40.893 python[3189:192518] +[IMKClient subclass]: chose IMKClient_Modern\n",
      "2025-01-19 14:18:40.893 python[3189:192518] +[IMKInputSession subclass]: chose IMKInputSession_Modern\n"
     ]
    },
    {
     "ename": "KeyboardInterrupt",
     "evalue": "",
     "output_type": "error",
     "traceback": [
      "\u001b[0;31m---------------------------------------------------------------------------\u001b[0m",
      "\u001b[0;31mKeyboardInterrupt\u001b[0m                         Traceback (most recent call last)",
      "Cell \u001b[0;32mIn[6], line 17\u001b[0m\n\u001b[1;32m     15\u001b[0m cv2\u001b[38;5;241m.\u001b[39mimshow(\u001b[38;5;124m'\u001b[39m\u001b[38;5;124mmask\u001b[39m\u001b[38;5;124m'\u001b[39m, mask)\n\u001b[1;32m     16\u001b[0m cv2\u001b[38;5;241m.\u001b[39mimshow(\u001b[38;5;124m'\u001b[39m\u001b[38;5;124mres\u001b[39m\u001b[38;5;124m'\u001b[39m, res)\n\u001b[0;32m---> 17\u001b[0m k \u001b[38;5;241m=\u001b[39m \u001b[43mcv2\u001b[49m\u001b[38;5;241;43m.\u001b[39;49m\u001b[43mwaitKey\u001b[49m\u001b[43m(\u001b[49m\u001b[38;5;241;43m5\u001b[39;49m\u001b[43m)\u001b[49m \u001b[38;5;241m&\u001b[39m \u001b[38;5;241m0xFF\u001b[39m\n\u001b[1;32m     18\u001b[0m \u001b[38;5;28;01mif\u001b[39;00m k \u001b[38;5;241m==\u001b[39m \u001b[38;5;241m27\u001b[39m:\n\u001b[1;32m     19\u001b[0m     \u001b[38;5;28;01mbreak\u001b[39;00m\n",
      "\u001b[0;31mKeyboardInterrupt\u001b[0m: "
     ]
    }
   ],
   "source": [
    "cap = cv2.VideoCapture(0)\n",
    "\n",
    "while(1):\n",
    "    _, frame = cap.read()\n",
    "    hsv = cv2.cvtColor(frame, cv2.COLOR_BGR2HSV)\n",
    "    \n",
    "    lower_blue = np.array([110,50,50])\n",
    "    upper_blue = np.array([130,255,255])\n",
    "    \n",
    "    mask = cv2.inRange(hsv, lower_blue, upper_blue)\n",
    "    \n",
    "    res = cv2.bitwise_and(frame, frame, mask = mask)\n",
    "    \n",
    "    cv2.imshow('frame', frame)\n",
    "    cv2.imshow('mask', mask)\n",
    "    cv2.imshow('res', res)\n",
    "    k = cv2.waitKey(5) & 0xFF\n",
    "    if k == 27:\n",
    "        break\n",
    "\n",
    "cv2.destroyAllWindows()"
   ]
  },
  {
   "cell_type": "markdown",
   "id": "7bb23ab7",
   "metadata": {},
   "source": [
    "There will be some noise in the image, which can be removed. \n",
    "\n"
   ]
  },
  {
   "cell_type": "markdown",
   "id": "e17bec13",
   "metadata": {},
   "source": [
    "# How to find HSV value sto trakc\n",
    "\n",
    "we can pass the same function cv2"
   ]
  }
 ],
 "metadata": {
  "kernelspec": {
   "display_name": "Python [conda env:images] *",
   "language": "python",
   "name": "conda-env-images-py"
  },
  "language_info": {
   "codemirror_mode": {
    "name": "ipython",
    "version": 3
   },
   "file_extension": ".py",
   "mimetype": "text/x-python",
   "name": "python",
   "nbconvert_exporter": "python",
   "pygments_lexer": "ipython3",
   "version": "3.12.8"
  }
 },
 "nbformat": 4,
 "nbformat_minor": 5
}
