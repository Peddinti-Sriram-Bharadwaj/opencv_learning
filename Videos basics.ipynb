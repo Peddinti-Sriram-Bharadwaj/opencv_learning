{
 "cells": [
  {
   "cell_type": "markdown",
   "id": "4cc70dc7",
   "metadata": {},
   "source": [
    "## Capture video from camera\n",
    "\n",
    "to capture a video, a VideoCapture object is to be created. its argument can be either the device index or the name of video file. the device index is just the number to specify which camera. normally one camera will be connected, which is accessed with '0' or '1'. we can select the second camera with 1 and so on. After that, you can capture frame-by-frame. At the end, release the capture"
   ]
  },
  {
   "cell_type": "code",
   "execution_count": 1,
   "id": "250b5de2",
   "metadata": {},
   "outputs": [],
   "source": [
    "import numpy as np\n",
    "import cv2"
   ]
  },
  {
   "cell_type": "code",
   "execution_count": 2,
   "id": "9ccd3d03",
   "metadata": {},
   "outputs": [
    {
     "name": "stderr",
     "output_type": "stream",
     "text": [
      "2025-01-17 18:02:49.364 python[9205:365508] WARNING: AVCaptureDeviceTypeExternal is deprecated for Continuity Cameras. Please use AVCaptureDeviceTypeContinuityCamera and add NSCameraUseContinuityCameraDeviceType to your Info.plist.\n",
      "2025-01-17 18:02:51.015 python[9205:365508] +[IMKClient subclass]: chose IMKClient_Modern\n",
      "2025-01-17 18:02:51.015 python[9205:365508] +[IMKInputSession subclass]: chose IMKInputSession_Modern\n"
     ]
    }
   ],
   "source": [
    "cap = cv2.VideoCapture(1)\n",
    "\n",
    "while(True):\n",
    "    ret, frame = cap.read()\n",
    "    \n",
    "    gray = cv2.cvtColor(frame, cv2.COLOR_BGR2GRAY)\n",
    "    \n",
    "    cv2.imshow('frame', gray)\n",
    "    if cv2.waitKey(1) & 0xFF == ord('q'):\n",
    "        break\n",
    "    \n",
    "\n",
    "cap.release()\n",
    "\n",
    "cv2.destroyAllWindows()"
   ]
  },
  {
   "cell_type": "code",
   "execution_count": 3,
   "id": "0de6deb7",
   "metadata": {},
   "outputs": [],
   "source": [
    "cv2.destroyAllWindows()"
   ]
  },
  {
   "cell_type": "markdown",
   "id": "e76faf95",
   "metadata": {},
   "source": [
    "**cap.read()** returns a bool. if the frame is read correctly, it returns a true and the frame. so we can check end of the video by checking this return value. \n",
    "\n",
    "sometimes cap may not have initialized the capture, in thaqt case this code show serror. we can check if it is initialized or not using the cap.isOpen() method. if it is true, OK. otherwise open it using cap.open(). \n",
    "\n",
    "we can also access some of the video features using cap.get(propId), where propId is a number from 0 to 18.  each number denotes a property of the video.  for example, *cap.get(3) gives the frame width and cap.get(4) gives the frame height. both are 640 x 480 by default. \n"
   ]
  },
  {
   "cell_type": "markdown",
   "id": "61c32b38",
   "metadata": {},
   "source": [
    "## playing video from file \n",
    "\n"
   ]
  },
  {
   "cell_type": "code",
   "execution_count": 2,
   "id": "2cea5e51",
   "metadata": {},
   "outputs": [
    {
     "name": "stderr",
     "output_type": "stream",
     "text": [
      "2025-01-17 18:05:43.855 python[9285:372641] +[IMKClient subclass]: chose IMKClient_Modern\n",
      "2025-01-17 18:05:43.855 python[9285:372641] +[IMKInputSession subclass]: chose IMKInputSession_Modern\n"
     ]
    },
    {
     "ename": "error",
     "evalue": "OpenCV(4.10.0) /Users/runner/miniforge3/conda-bld/libopencv_1735821559719/work/modules/imgproc/src/color.cpp:196: error: (-215:Assertion failed) !_src.empty() in function 'cvtColor'\n",
     "output_type": "error",
     "traceback": [
      "\u001b[0;31m---------------------------------------------------------------------------\u001b[0m",
      "\u001b[0;31merror\u001b[0m                                     Traceback (most recent call last)",
      "Cell \u001b[0;32mIn[2], line 6\u001b[0m\n\u001b[1;32m      3\u001b[0m \u001b[38;5;28;01mwhile\u001b[39;00m(cap\u001b[38;5;241m.\u001b[39misOpened()):\n\u001b[1;32m      4\u001b[0m     ret, frame \u001b[38;5;241m=\u001b[39m cap\u001b[38;5;241m.\u001b[39mread()\n\u001b[0;32m----> 6\u001b[0m     gray \u001b[38;5;241m=\u001b[39m \u001b[43mcv2\u001b[49m\u001b[38;5;241;43m.\u001b[39;49m\u001b[43mcvtColor\u001b[49m\u001b[43m(\u001b[49m\u001b[43mframe\u001b[49m\u001b[43m,\u001b[49m\u001b[43m \u001b[49m\u001b[43mcv2\u001b[49m\u001b[38;5;241;43m.\u001b[39;49m\u001b[43mCOLOR_BGR2GRAY\u001b[49m\u001b[43m)\u001b[49m\n\u001b[1;32m      8\u001b[0m     cv2\u001b[38;5;241m.\u001b[39mimshow(\u001b[38;5;124m'\u001b[39m\u001b[38;5;124mframe\u001b[39m\u001b[38;5;124m'\u001b[39m, gray)\n\u001b[1;32m      9\u001b[0m     \u001b[38;5;28;01mif\u001b[39;00m cv2\u001b[38;5;241m.\u001b[39mwaitKey(\u001b[38;5;241m60\u001b[39m) \u001b[38;5;241m&\u001b[39m \u001b[38;5;241m0xFF\u001b[39m \u001b[38;5;241m==\u001b[39m \u001b[38;5;28mord\u001b[39m(\u001b[38;5;124m'\u001b[39m\u001b[38;5;124mq\u001b[39m\u001b[38;5;124m'\u001b[39m):\n",
      "\u001b[0;31merror\u001b[0m: OpenCV(4.10.0) /Users/runner/miniforge3/conda-bld/libopencv_1735821559719/work/modules/imgproc/src/color.cpp:196: error: (-215:Assertion failed) !_src.empty() in function 'cvtColor'\n"
     ]
    }
   ],
   "source": [
    "cap = cv2.VideoCapture('./sample_videos/desk.mov')\n",
    "\n",
    "while(cap.isOpened()):\n",
    "    ret, frame = cap.read()\n",
    "    \n",
    "    gray = cv2.cvtColor(frame, cv2.COLOR_BGR2GRAY)\n",
    "    \n",
    "    cv2.imshow('frame', gray)\n",
    "    if cv2.waitKey(60) & 0xFF == ord('q'):\n",
    "        break\n",
    "\n",
    "cap.release()\n",
    "cv2.destroyAllWindows()\n",
    "    \n",
    "    "
   ]
  },
  {
   "cell_type": "markdown",
   "id": "e72f10e6",
   "metadata": {},
   "source": [
    "it is the same as capturing from camera. we just change the camera index with the fiel name. also, when displayng the frame use the appropriate time for cv2.waitKey(). if it is too less, video will be very fast, and if it is high video will be slow. \n",
    "( a trick to display videos in slow motion)\n",
    "\n",
    "25ms is OK in normal cases. "
   ]
  },
  {
   "cell_type": "markdown",
   "id": "1cd3e254",
   "metadata": {},
   "source": [
    "make sure the proper versions of ffmpeg or gstreamer is installed. sometimes it is harder to work with video capture mostly due to the wrong instalation of ffmpeg or gstreamer. "
   ]
  },
  {
   "cell_type": "markdown",
   "id": "37ea97ca",
   "metadata": {},
   "source": [
    "### ffmpeg and gstreamer. \n",
    "#### ffmpeg. \n",
    "\n",
    "It is a free open source cross-platform multimedia framework. \n",
    "it is used in media processing and supports many formats and codecs. \n",
    "many libraries use ffmpeg as a backend for handling multimedia. \n",
    "\n",
    "#### gstreamer\n",
    "It is an open source multimedia framework that constructs media handling pipelines. It is suitable for real time video streaming applications. \n",
    "\n"
   ]
  },
  {
   "cell_type": "markdown",
   "id": "8186d2cd",
   "metadata": {},
   "source": [
    "## saving a video \n",
    "\n",
    "if we capture a video, process it frame-by-frame and we want to save tha video. \n",
    "\n",
    "for this we create a **VideoWriter** object. we should specify the output file name and we should specify the **FourCC** code details. then the number of frames per second and frame size should be passed. the last one is **isColor** flag. if it is true, the encoder expects colro frame, otherwise it wroks with grayscale frame. \n",
    "\n",
    "### FourCC\n",
    "It is a 4-byte code uesd to specify the video codec. It is platform dependent. \n",
    "\n",
    "the FourCC code is passed as *cv2.VideoWriter_fourcc('M', 'J', 'P', 'G')* or *cv2.VideoWriter_fourcc(\\*'MJPG)*\n",
    "for MJPG format. "
   ]
  },
  {
   "cell_type": "code",
   "execution_count": null,
   "id": "def34d4d",
   "metadata": {},
   "outputs": [],
   "source": []
  }
 ],
 "metadata": {
  "kernelspec": {
   "display_name": "Python [conda env:images] *",
   "language": "python",
   "name": "conda-env-images-py"
  },
  "language_info": {
   "codemirror_mode": {
    "name": "ipython",
    "version": 3
   },
   "file_extension": ".py",
   "mimetype": "text/x-python",
   "name": "python",
   "nbconvert_exporter": "python",
   "pygments_lexer": "ipython3",
   "version": "3.12.8"
  }
 },
 "nbformat": 4,
 "nbformat_minor": 5
}
