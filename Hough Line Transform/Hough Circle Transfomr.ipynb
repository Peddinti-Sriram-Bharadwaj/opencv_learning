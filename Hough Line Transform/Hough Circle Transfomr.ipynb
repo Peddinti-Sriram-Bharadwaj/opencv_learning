{
 "cells": [
  {
   "cell_type": "markdown",
   "id": "f8d00964",
   "metadata": {},
   "source": [
    "A circle is represeted as its distance from center to any point on the circumference. \n",
    "\n",
    "sine we have 3 parameters, we need a 3d accumulator for hough transform which is highly ineffective. so, OpenCV uses **Hough Gradient Method** which uses the gradient information of the images. \n",
    "\n",
    "we use the **cv2.HoughCirlces()** method. "
   ]
  },
  {
   "cell_type": "code",
   "execution_count": 1,
   "id": "fb7898ec",
   "metadata": {},
   "outputs": [
    {
     "name": "stdout",
     "output_type": "stream",
     "text": [
      "No circles were detected.\n"
     ]
    }
   ],
   "source": [
    "import cv2\n",
    "import numpy as np\n",
    "\n",
    "img = cv2.imread('circles.jpeg', 0)\n",
    "if img is None:\n",
    "    raise FileNotFoundError(\"Image not found. Check file path.\")\n",
    "\n",
    "img = cv2.medianBlur(img, 5)\n",
    "cimg = cv2.cvtColor(img, cv2.COLOR_GRAY2BGR)\n",
    "\n",
    "circles = cv2.HoughCircles(img, cv2.HOUGH_GRADIENT, 1, 20,\n",
    "                           param1=50, param2=30, minRadius=10, maxRadius=100)\n",
    "\n",
    "if circles is not None:\n",
    "    circles = np.uint16(np.around(circles))\n",
    "    for i in circles[0, :]:\n",
    "        cv2.circle(cimg, (i[0], i[1]), i[2], (0, 255, 0), 2)  # Outer circle\n",
    "        cv2.circle(cimg, (i[0], i[1]), 2, (0, 0, 255), 3)     # Center point\n",
    "\n",
    "    cv2.imshow('Detected Circles', cimg)\n",
    "    cv2.waitKey(0)\n",
    "    cv2.destroyAllWindows()\n",
    "else:\n",
    "    print(\"No circles were detected.\")\n"
   ]
  },
  {
   "cell_type": "code",
   "execution_count": null,
   "id": "34d8eb04",
   "metadata": {},
   "outputs": [],
   "source": []
  }
 ],
 "metadata": {
  "kernelspec": {
   "display_name": "Python [conda env:images] *",
   "language": "python",
   "name": "conda-env-images-py"
  },
  "language_info": {
   "codemirror_mode": {
    "name": "ipython",
    "version": 3
   },
   "file_extension": ".py",
   "mimetype": "text/x-python",
   "name": "python",
   "nbconvert_exporter": "python",
   "pygments_lexer": "ipython3",
   "version": "3.12.8"
  }
 },
 "nbformat": 4,
 "nbformat_minor": 5
}
