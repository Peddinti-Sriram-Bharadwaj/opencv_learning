{
 "cells": [
  {
   "cell_type": "markdown",
   "id": "d03f70cd",
   "metadata": {},
   "source": [
    "It is a popular technique to detect any shape. if we can represent that shape in mathematical form, it can detect the shape even if it is broken or distorted a little bit. \n",
    "\n",
    "A line can be represented as y = mx + c or in a parametric form as p = xcos(a) + ysin(a), where p is the parpendicular distance from origin to the line and a is the angle formed by this perpendicular line and the horizontal axis measured in counter clockwise direction. \n",
    "\n",
    "if the line is passing through the origin, it will have a positive p and the angle is less than 180. \n",
    "\n",
    "if it is going above the origin, intstead of taking an angle above than 180, it is taken less than 180 and p is negative. \n",
    "\n",
    "any vertical line will have 0 degree and horizontal line will have 90 degree. \n",
    "\n",
    "A line can be represented in two parameters, p and a. \n",
    "the transformation first creates a 2D array or a accumulator to hold the values and it is set to 0 initially. \n",
    "let the rows denote p and the columns denote a. the size of the array depends on the accuracy we need. Suppose we want the accuracy of angles to be 1 degree, we need 180 angles. for p, the maximum possible distance is the diagonal length of the image. so, taking one pixel accuracy, the number of rows can be diagonal length of the image. "
   ]
  },
  {
   "cell_type": "markdown",
   "id": "7d12696c",
   "metadata": {},
   "source": [
    "we vote the p and a values. we continue this process for every point on the line. at each point the cell will be incremented or voted up, while other cells may or may not be voted up. \n",
    "the last cell will have the maximum votes. so, if we search the accumulator for maximum votes, we get the value of the point that is most distant from the origin. \n",
    "\n"
   ]
  },
  {
   "cell_type": "code",
   "execution_count": 3,
   "id": "5e0f241e",
   "metadata": {},
   "outputs": [
    {
     "data": {
      "text/plain": [
       "True"
      ]
     },
     "execution_count": 3,
     "metadata": {},
     "output_type": "execute_result"
    }
   ],
   "source": [
    "import cv2\n",
    "import numpy as np\n",
    "\n",
    "img = cv2.imread('chessboard.jpeg')\n",
    "if img is None:\n",
    "    raise FileNotFoundError(\"Image not found. Check file path.\")\n",
    "\n",
    "gray = cv2.cvtColor(img, cv2.COLOR_BGR2GRAY)\n",
    "edges = cv2.Canny(gray, 50, 150, apertureSize=3)\n",
    "\n",
    "lines = cv2.HoughLines(edges, 1, np.pi/180, 200)\n",
    "if lines is not None:\n",
    "    for line in lines:\n",
    "        rho, theta = line[0]\n",
    "        a = np.cos(theta)\n",
    "        b = np.sin(theta)\n",
    "        x0 = a * rho\n",
    "        y0 = b * rho\n",
    "        x1 = int(x0 + 1000 * (-b))\n",
    "        y1 = int(y0 + 1000 * (a))\n",
    "        x2 = int(x0 - 1000 * (-b))\n",
    "        y2 = int(y0 - 1000 * (a))\n",
    "\n",
    "        cv2.line(img, (x1, y1), (x2, y2), (0, 0, 255), 2)\n",
    "\n",
    "cv2.imwrite('houghlines.jpg', img)\n"
   ]
  },
  {
   "cell_type": "markdown",
   "id": "97f50faf",
   "metadata": {},
   "source": [
    "## Probabilistic Hough Transform\n",
    "\n",
    "even with a line with just two arguments, there is a lot of computation happening. Probabilistic Hough Transform is an optimization of Hough Transform. It doens't take all points into consideration, instead it takes only a random subset of points and that is sufficient for line detection. \n",
    "\n",
    "it directly returns the two endpoints of lines. "
   ]
  },
  {
   "cell_type": "code",
   "execution_count": null,
   "id": "0cdd69d1",
   "metadata": {},
   "outputs": [],
   "source": [
    "import cv2\n",
    "import numpy as np\n",
    "\n",
    "img =cv2.imread('chessboard.jpeg')\n",
    "gray = cv2.cvtColor(img, cv2.COLOR_BGR2GRAY)\n",
    "edges = cv2.Canny(gray, 50, 150, apertureSize = 3)\n",
    "minLineLength = 100\n",
    "maxLineGap = 10\n",
    "lines = cv2.HoughLineP(edges, 1, np.pi/180, 100, minLineLength, maxLineGap)\n",
    "for x1, y1, x2, y2 in lines[0]:\n",
    "    cv2.line(img, (x1,y1), (x2,y2), (0,255,0), 2)\n",
    "cv2.imwrite('houghline2.jpeg', img)"
   ]
  }
 ],
 "metadata": {
  "kernelspec": {
   "display_name": "Python [conda env:images] *",
   "language": "python",
   "name": "conda-env-images-py"
  },
  "language_info": {
   "codemirror_mode": {
    "name": "ipython",
    "version": 3
   },
   "file_extension": ".py",
   "mimetype": "text/x-python",
   "name": "python",
   "nbconvert_exporter": "python",
   "pygments_lexer": "ipython3",
   "version": "3.12.8"
  }
 },
 "nbformat": 4,
 "nbformat_minor": 5
}
