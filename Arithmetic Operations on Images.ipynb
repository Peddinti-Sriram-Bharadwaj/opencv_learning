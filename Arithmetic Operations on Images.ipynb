{
 "cells": [
  {
   "cell_type": "markdown",
   "id": "b256d95c",
   "metadata": {},
   "source": [
    "## Image addition\n"
   ]
  },
  {
   "cell_type": "markdown",
   "id": "0f4bcd12",
   "metadata": {},
   "source": [
    "two images can be added using **cv2.add()** or just a numpy operations. both images should be of the same depth and type, or second image cna just be a scalar alue. \n",
    "\n",
    "opencv addition is a saturated operation while numpy addition is a modulo operation"
   ]
  },
  {
   "cell_type": "code",
   "execution_count": 1,
   "id": "23ab0c55",
   "metadata": {},
   "outputs": [],
   "source": [
    "import numpy as np\n",
    "import cv2"
   ]
  },
  {
   "cell_type": "code",
   "execution_count": 2,
   "id": "6ab07f93",
   "metadata": {},
   "outputs": [],
   "source": [
    "x = np.uint8([250])\n",
    "y = np.uint8([10])"
   ]
  },
  {
   "cell_type": "code",
   "execution_count": 3,
   "id": "34f9d816",
   "metadata": {},
   "outputs": [
    {
     "data": {
      "text/plain": [
       "array([[260.],\n",
       "       [  0.],\n",
       "       [  0.],\n",
       "       [  0.]])"
      ]
     },
     "execution_count": 3,
     "metadata": {},
     "output_type": "execute_result"
    }
   ],
   "source": [
    "cv2.add(x,y)"
   ]
  },
  {
   "cell_type": "code",
   "execution_count": 4,
   "id": "1eaf4505",
   "metadata": {},
   "outputs": [
    {
     "data": {
      "text/plain": [
       "array([4], dtype=uint8)"
      ]
     },
     "execution_count": 4,
     "metadata": {},
     "output_type": "execute_result"
    }
   ],
   "source": [
    "x+y"
   ]
  },
  {
   "cell_type": "markdown",
   "id": "d75eb586",
   "metadata": {},
   "source": [
    "## Image blending"
   ]
  },
  {
   "cell_type": "markdown",
   "id": "32e2c2d0",
   "metadata": {},
   "source": [
    "this is also image addition but differne weights are given to images so that it gives a feeling of blending or transparency.\n",
    "\n"
   ]
  },
  {
   "cell_type": "code",
   "execution_count": 5,
   "id": "48749fa0",
   "metadata": {},
   "outputs": [],
   "source": [
    "img1 =cv2.imread('./sample_imgs/rasenshuriken.jpeg')\n",
    "img1 = cv2.resize(img1, (600,600))"
   ]
  },
  {
   "cell_type": "code",
   "execution_count": 6,
   "id": "5ad4c8a1",
   "metadata": {},
   "outputs": [],
   "source": [
    "img2 = cv2.imread('./sample_imgs/sharingan.png')\n",
    "img2 = cv2.resize(img2, (600,600))"
   ]
  },
  {
   "cell_type": "code",
   "execution_count": 7,
   "id": "5ae333e1",
   "metadata": {},
   "outputs": [],
   "source": [
    "dst = cv2.addWeighted(img1, 0.7, img2, 0.3,0)"
   ]
  },
  {
   "cell_type": "code",
   "execution_count": null,
   "id": "5eebb8b4",
   "metadata": {},
   "outputs": [
    {
     "name": "stderr",
     "output_type": "stream",
     "text": [
      "2025-01-19 11:51:02.610 python[2523:138998] +[IMKClient subclass]: chose IMKClient_Modern\n",
      "2025-01-19 11:51:02.610 python[2523:138998] +[IMKInputSession subclass]: chose IMKInputSession_Modern\n"
     ]
    }
   ],
   "source": [
    "cv2.imshow('dst', dst)\n",
    "cv2.waitKey(0)\n",
    "cv2.destroyAllWindows()"
   ]
  },
  {
   "cell_type": "markdown",
   "id": "fe6ff0ac",
   "metadata": {},
   "source": [
    "## Bitwise Operations\n"
   ]
  },
  {
   "cell_type": "markdown",
   "id": "459ceac5",
   "metadata": {},
   "source": [
    "These are usseful in extracting any part of the image, definigna nd owkring with non-rectangular ROI etc. \n"
   ]
  },
  {
   "cell_type": "code",
   "execution_count": 2,
   "id": "e032157b",
   "metadata": {},
   "outputs": [],
   "source": [
    "img1 =cv2.imread('./sample_imgs/rasenshuriken.jpeg')\n"
   ]
  },
  {
   "cell_type": "code",
   "execution_count": 3,
   "id": "3f955be3",
   "metadata": {},
   "outputs": [],
   "source": [
    "img2 = cv2.imread('./sample_imgs/sharingan.png')\n",
    "img2 = cv2.resize(img2, (50,50))"
   ]
  },
  {
   "cell_type": "code",
   "execution_count": 4,
   "id": "6ed66152",
   "metadata": {},
   "outputs": [],
   "source": [
    "rows, cols , channels = img2.shape\n",
    "roi = img1[0:rows, 0:cols]"
   ]
  },
  {
   "cell_type": "code",
   "execution_count": 5,
   "id": "e3b34bf6",
   "metadata": {},
   "outputs": [],
   "source": [
    "img2gray = cv2.cvtColor(img2, cv2.COLOR_BGR2GRAY)"
   ]
  },
  {
   "cell_type": "code",
   "execution_count": 6,
   "id": "d9f97ddb",
   "metadata": {},
   "outputs": [],
   "source": [
    "ret, mask = cv2.threshold(img2gray, 10,255, cv2.THRESH_BINARY)"
   ]
  },
  {
   "cell_type": "code",
   "execution_count": 7,
   "id": "0f5310e9",
   "metadata": {},
   "outputs": [],
   "source": [
    "mask_inv = cv2.bitwise_not(mask)"
   ]
  },
  {
   "cell_type": "code",
   "execution_count": 8,
   "id": "193909d7",
   "metadata": {},
   "outputs": [],
   "source": [
    "img1_bg = cv2.bitwise_and(roi,roi, mask = mask_inv)"
   ]
  },
  {
   "cell_type": "code",
   "execution_count": 9,
   "id": "06cd4129",
   "metadata": {},
   "outputs": [],
   "source": [
    "img2_fg = cv2.bitwise_and(img2, img2, mask = mask)"
   ]
  },
  {
   "cell_type": "code",
   "execution_count": 10,
   "id": "73eeeca4",
   "metadata": {},
   "outputs": [],
   "source": [
    "dst = cv2.add(img1_bg, img2_fg)"
   ]
  },
  {
   "cell_type": "code",
   "execution_count": 11,
   "id": "49539f03",
   "metadata": {},
   "outputs": [],
   "source": [
    "img1[0:rows, 0:cols] = dst"
   ]
  },
  {
   "cell_type": "code",
   "execution_count": null,
   "id": "33bacb6d",
   "metadata": {},
   "outputs": [],
   "source": [
    "cv2.imshow('res', img2_fg)\n",
    "cv2.waitKey(0)\n",
    "cv2.destroyAllWindows()"
   ]
  },
  {
   "cell_type": "code",
   "execution_count": null,
   "id": "af27c04c",
   "metadata": {},
   "outputs": [],
   "source": []
  }
 ],
 "metadata": {
  "kernelspec": {
   "display_name": "Python [conda env:images] *",
   "language": "python",
   "name": "conda-env-images-py"
  },
  "language_info": {
   "codemirror_mode": {
    "name": "ipython",
    "version": 3
   },
   "file_extension": ".py",
   "mimetype": "text/x-python",
   "name": "python",
   "nbconvert_exporter": "python",
   "pygments_lexer": "ipython3",
   "version": "3.12.8"
  }
 },
 "nbformat": 4,
 "nbformat_minor": 5
}
